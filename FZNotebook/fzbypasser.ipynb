{
  "nbformat": 4,
  "nbformat_minor": 0,
  "metadata": {
    "colab": {
      "provenance": [],
      "authorship_tag": "ABX9TyNN80Aiw2c0G4+I9vAI4ZTF"
    },
    "kernelspec": {
      "name": "python3",
      "display_name": "Python 3"
    },
    "language_info": {
      "name": "python"
    }
  },
  "cells": [
    {
      "cell_type": "markdown",
      "source": [
        "# ***FZBypassBot***\n",
        "\n",
        "_A Elegant Fast Multi Threaded Bypass Telegram Bot for Bigger Deeds like Mass Bypass. Try Now, and Feel the Speedy Work._"
      ],
      "metadata": {
        "id": "VjfA_UU_0Mo4"
      }
    },
    {
      "cell_type": "code",
      "execution_count": null,
      "metadata": {
        "id": "YXlUcyRtgSCX",
        "cellView": "form"
      },
      "outputs": [],
      "source": [
        "#@title ***Install Deficiencies***\n",
        "\n",
        "!pip3 install aiohttp bs4 cfscrape cloudscraper curl_cffi lxml httpx python-dotenv requests urllib3==1.26 uvloop\n",
        "\n",
        "from IPython.display import clear_output, HTML, display\n",
        "\n",
        "clear_output()\n",
        "\n",
        "display(HTML(\"<marquee><b>Successfully Installed</b></marquee>\"))"
      ]
    }
  ]
}